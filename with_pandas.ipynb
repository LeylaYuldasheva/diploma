{
 "cells": [
  {
   "cell_type": "code",
   "execution_count": 70,
   "metadata": {},
   "outputs": [],
   "source": [
    "import dlib\n",
    "from skimage import io\n",
    "from scipy.spatial import distance\n",
    "import cv2\n",
    "import glob\n",
    "import sys\n",
    "import pandas as pd\n",
    "from tqdm import tqdm\n",
    "import numpy as np"
   ]
  },
  {
   "cell_type": "code",
   "execution_count": 2,
   "metadata": {},
   "outputs": [],
   "source": [
    "sp = dlib.shape_predictor('models/shape_predictor_68_face_landmarks.dat')\n",
    "facerec = dlib.face_recognition_model_v1('models/dlib_face_recognition_resnet_model_v1.dat')\n",
    "detector = dlib.get_frontal_face_detector()"
   ]
  },
  {
   "cell_type": "code",
   "execution_count": 74,
   "metadata": {},
   "outputs": [],
   "source": [
    "pictures = []\n",
    "descriptors = []"
   ]
  },
  {
   "cell_type": "code",
   "execution_count": 75,
   "metadata": {},
   "outputs": [],
   "source": [
    "files = glob.glob('Halle_Berry\\\\all\\\\*.jpg')"
   ]
  },
  {
   "cell_type": "code",
   "execution_count": 76,
   "metadata": {},
   "outputs": [
    {
     "name": "stderr",
     "output_type": "stream",
     "text": [
      " 45%|███████████████████████████████████▊                                            | 111/248 [09:52<12:10,  5.33s/it]\n"
     ]
    },
    {
     "ename": "KeyboardInterrupt",
     "evalue": "",
     "output_type": "error",
     "traceback": [
      "\u001b[1;31m---------------------------------------------------------------------------\u001b[0m",
      "\u001b[1;31mKeyboardInterrupt\u001b[0m                         Traceback (most recent call last)",
      "\u001b[1;32m<ipython-input-76-0fa49a4c4ff5>\u001b[0m in \u001b[0;36m<module>\u001b[1;34m\u001b[0m\n\u001b[0;32m      2\u001b[0m     \u001b[0mimg\u001b[0m \u001b[1;33m=\u001b[0m \u001b[0mcv2\u001b[0m\u001b[1;33m.\u001b[0m\u001b[0mimread\u001b[0m\u001b[1;33m(\u001b[0m\u001b[0mfile\u001b[0m\u001b[1;33m)\u001b[0m\u001b[1;33m\u001b[0m\u001b[1;33m\u001b[0m\u001b[0m\n\u001b[0;32m      3\u001b[0m     \u001b[0mpictures\u001b[0m\u001b[1;33m.\u001b[0m\u001b[0mappend\u001b[0m\u001b[1;33m(\u001b[0m\u001b[0mimg\u001b[0m\u001b[1;33m)\u001b[0m\u001b[1;33m\u001b[0m\u001b[1;33m\u001b[0m\u001b[0m\n\u001b[1;32m----> 4\u001b[1;33m     \u001b[0mdets\u001b[0m \u001b[1;33m=\u001b[0m \u001b[0mdetector\u001b[0m\u001b[1;33m(\u001b[0m\u001b[0mimg\u001b[0m\u001b[1;33m,\u001b[0m \u001b[1;36m1\u001b[0m\u001b[1;33m)\u001b[0m\u001b[1;33m\u001b[0m\u001b[1;33m\u001b[0m\u001b[0m\n\u001b[0m\u001b[0;32m      5\u001b[0m     \u001b[1;32mfor\u001b[0m \u001b[0mk\u001b[0m\u001b[1;33m,\u001b[0m \u001b[0md\u001b[0m \u001b[1;32min\u001b[0m \u001b[0menumerate\u001b[0m\u001b[1;33m(\u001b[0m\u001b[0mdets\u001b[0m\u001b[1;33m)\u001b[0m\u001b[1;33m:\u001b[0m\u001b[1;33m\u001b[0m\u001b[1;33m\u001b[0m\u001b[0m\n\u001b[0;32m      6\u001b[0m         \u001b[1;31m#print(\"Detection {}: Left: {} Top: {} Right: {} Bottom: {}\".format(\u001b[0m\u001b[1;33m\u001b[0m\u001b[1;33m\u001b[0m\u001b[1;33m\u001b[0m\u001b[0m\n",
      "\u001b[1;31mKeyboardInterrupt\u001b[0m: "
     ]
    }
   ],
   "source": [
    "for file in tqdm(files):\n",
    "    img = cv2.imread(file)\n",
    "    pictures.append(img)\n",
    "    dets = detector(img, 1)\n",
    "    for k, d in enumerate(dets):\n",
    "        #print(\"Detection {}: Left: {} Top: {} Right: {} Bottom: {}\".format(\n",
    "            #k, d.left(), d.top(), d.right(), d.bottom()))\n",
    "        shape = sp(img, d)\n",
    "        face_descriptor = facerec.compute_face_descriptor(img, shape)\n",
    "        item = {\n",
    "            'descriptor':face_descriptor,\n",
    "            'file' : file,\n",
    "        }\n",
    "        descriptors.append(item)"
   ]
  },
  {
   "cell_type": "code",
   "execution_count": null,
   "metadata": {},
   "outputs": [],
   "source": [
    "df =pd.DataFrame(columns = ['img_path', 'class', 'descriptor'])\n",
    "\n",
    "for item in tqdm(descriptors):\n",
    "    print(item)\n",
    "    class1 = 'Halle_Berry'\n",
    "    desc = np.array(item['descriptor'])\n",
    "    descriptor = ' '.join([str(n) for n in desc])\n",
    "    row ={\n",
    "        'img_path': item['file'],\n",
    "        'class': class1,\n",
    "        'descriptor': descriptor,\n",
    "    }\n",
    "\n",
    "    df = df.append(row, ignore_index=True)"
   ]
  },
  {
   "cell_type": "code",
   "execution_count": null,
   "metadata": {},
   "outputs": [],
   "source": [
    "df"
   ]
  },
  {
   "cell_type": "code",
   "execution_count": null,
   "metadata": {},
   "outputs": [],
   "source": [
    "df.to_csv('Halle_Berry.csv')\n",
    "df.to_excel('Halle_Berry.xlsx')"
   ]
  },
  {
   "cell_type": "code",
   "execution_count": null,
   "metadata": {},
   "outputs": [],
   "source": []
  },
  {
   "cell_type": "code",
   "execution_count": null,
   "metadata": {},
   "outputs": [],
   "source": [
    "#adding new images to existed dataframe"
   ]
  },
  {
   "cell_type": "code",
   "execution_count": 50,
   "metadata": {},
   "outputs": [],
   "source": [
    "old_df = pd.read_csv('Halle_Berry.csv', index_col = 0)"
   ]
  },
  {
   "cell_type": "code",
   "execution_count": 22,
   "metadata": {},
   "outputs": [],
   "source": [
    "files = glob.glob('Halle_Berry\\\\*.PNG')"
   ]
  },
  {
   "cell_type": "code",
   "execution_count": 30,
   "metadata": {},
   "outputs": [],
   "source": [
    "new_files = []\n",
    "for file in files:\n",
    "    if file in old_df['img_path'].values:\n",
    "        continue\n",
    "    else:\n",
    "        new_files.append(file)"
   ]
  },
  {
   "cell_type": "code",
   "execution_count": null,
   "metadata": {},
   "outputs": [],
   "source": [
    "new_files"
   ]
  },
  {
   "cell_type": "code",
   "execution_count": 36,
   "metadata": {},
   "outputs": [],
   "source": [
    "new_pictures = []\n",
    "new_descriptors = []"
   ]
  },
  {
   "cell_type": "code",
   "execution_count": 37,
   "metadata": {},
   "outputs": [],
   "source": [
    "for file in tqdm(new_files):\n",
    "    img = cv2.imread(file)\n",
    "    new_pictures.append(img)\n",
    "    dets = detector(img, 1)\n",
    "    for k, d in enumerate(dets):\n",
    "        shape = sp(img, d)\n",
    "        face_descriptor = facerec.compute_face_descriptor(img, shape)\n",
    "        item = {\n",
    "            'descriptor':face_descriptor,\n",
    "            'file' : file,\n",
    "        }\n",
    "        new_descriptors.append(item)"
   ]
  },
  {
   "cell_type": "code",
   "execution_count": 38,
   "metadata": {},
   "outputs": [],
   "source": [
    "new_df =pd.DataFrame(columns = ['img_path', 'class', 'descriptor'])\n",
    "\n",
    "for item in tqdm(new_descriptors):\n",
    "    class1 = 'Halle_Berry'\n",
    "    desc = item['descriptor']\n",
    "    descriptor = ' '.join([str(n) for n in desc])\n",
    "    row ={\n",
    "        'img_path': item['file'],\n",
    "        'class': class1,\n",
    "        'descriptor': descriptor,\n",
    "    }\n",
    "\n",
    "    new_df = new_df.append(row, ignore_index=True)"
   ]
  },
  {
   "cell_type": "code",
   "execution_count": null,
   "metadata": {},
   "outputs": [],
   "source": [
    "new_df"
   ]
  },
  {
   "cell_type": "code",
   "execution_count": 52,
   "metadata": {},
   "outputs": [],
   "source": [
    "total_df = pd.concat([old_df, new_df])"
   ]
  },
  {
   "cell_type": "code",
   "execution_count": 53,
   "metadata": {},
   "outputs": [
    {
     "data": {
      "text/html": [
       "<div>\n",
       "<style scoped>\n",
       "    .dataframe tbody tr th:only-of-type {\n",
       "        vertical-align: middle;\n",
       "    }\n",
       "\n",
       "    .dataframe tbody tr th {\n",
       "        vertical-align: top;\n",
       "    }\n",
       "\n",
       "    .dataframe thead th {\n",
       "        text-align: right;\n",
       "    }\n",
       "</style>\n",
       "<table border=\"1\" class=\"dataframe\">\n",
       "  <thead>\n",
       "    <tr style=\"text-align: right;\">\n",
       "      <th></th>\n",
       "      <th>img_path</th>\n",
       "      <th>class</th>\n",
       "      <th>descriptor</th>\n",
       "    </tr>\n",
       "  </thead>\n",
       "  <tbody>\n",
       "    <tr>\n",
       "      <th>0</th>\n",
       "      <td>Dan_Radcliffe\\0.PNG</td>\n",
       "      <td>Dan_Radcliffe</td>\n",
       "      <td>-0.01745985820889473 0.10399903357028961 0.059...</td>\n",
       "    </tr>\n",
       "    <tr>\n",
       "      <th>1</th>\n",
       "      <td>Dan_Radcliffe\\1.PNG</td>\n",
       "      <td>Dan_Radcliffe</td>\n",
       "      <td>-0.10777680575847626 0.07684307545423508 0.040...</td>\n",
       "    </tr>\n",
       "    <tr>\n",
       "      <th>2</th>\n",
       "      <td>Dan_Radcliffe\\10.PNG</td>\n",
       "      <td>Dan_Radcliffe</td>\n",
       "      <td>-0.10304909199476242 0.08664718270301819 0.038...</td>\n",
       "    </tr>\n",
       "    <tr>\n",
       "      <th>3</th>\n",
       "      <td>Dan_Radcliffe\\100.PNG</td>\n",
       "      <td>Dan_Radcliffe</td>\n",
       "      <td>-0.06392291933298111 0.09306670725345612 0.059...</td>\n",
       "    </tr>\n",
       "    <tr>\n",
       "      <th>4</th>\n",
       "      <td>Dan_Radcliffe\\101.PNG</td>\n",
       "      <td>Dan_Radcliffe</td>\n",
       "      <td>-0.10605598986148834 0.07336850464344025 -0.03...</td>\n",
       "    </tr>\n",
       "    <tr>\n",
       "      <th>...</th>\n",
       "      <td>...</td>\n",
       "      <td>...</td>\n",
       "      <td>...</td>\n",
       "    </tr>\n",
       "    <tr>\n",
       "      <th>8</th>\n",
       "      <td>Dan_Radcliffe\\93.PNG</td>\n",
       "      <td>Dan_Radcliffe</td>\n",
       "      <td>-0.05436497554183006 0.09129687398672104 0.037...</td>\n",
       "    </tr>\n",
       "    <tr>\n",
       "      <th>9</th>\n",
       "      <td>Dan_Radcliffe\\94.PNG</td>\n",
       "      <td>Dan_Radcliffe</td>\n",
       "      <td>-0.02284703217446804 0.09830205887556076 0.031...</td>\n",
       "    </tr>\n",
       "    <tr>\n",
       "      <th>10</th>\n",
       "      <td>Dan_Radcliffe\\95.PNG</td>\n",
       "      <td>Dan_Radcliffe</td>\n",
       "      <td>-0.10329978168010712 0.042460761964321136 0.01...</td>\n",
       "    </tr>\n",
       "    <tr>\n",
       "      <th>11</th>\n",
       "      <td>Dan_Radcliffe\\96.PNG</td>\n",
       "      <td>Dan_Radcliffe</td>\n",
       "      <td>-0.08599738776683807 0.05456458032131195 0.021...</td>\n",
       "    </tr>\n",
       "    <tr>\n",
       "      <th>12</th>\n",
       "      <td>Dan_Radcliffe\\97.PNG</td>\n",
       "      <td>Dan_Radcliffe</td>\n",
       "      <td>-0.10788989067077637 0.0674746036529541 0.0452...</td>\n",
       "    </tr>\n",
       "  </tbody>\n",
       "</table>\n",
       "<p>205 rows × 3 columns</p>\n",
       "</div>"
      ],
      "text/plain": [
       "                 img_path          class  \\\n",
       "0     Dan_Radcliffe\\0.PNG  Dan_Radcliffe   \n",
       "1     Dan_Radcliffe\\1.PNG  Dan_Radcliffe   \n",
       "2    Dan_Radcliffe\\10.PNG  Dan_Radcliffe   \n",
       "3   Dan_Radcliffe\\100.PNG  Dan_Radcliffe   \n",
       "4   Dan_Radcliffe\\101.PNG  Dan_Radcliffe   \n",
       "..                    ...            ...   \n",
       "8    Dan_Radcliffe\\93.PNG  Dan_Radcliffe   \n",
       "9    Dan_Radcliffe\\94.PNG  Dan_Radcliffe   \n",
       "10   Dan_Radcliffe\\95.PNG  Dan_Radcliffe   \n",
       "11   Dan_Radcliffe\\96.PNG  Dan_Radcliffe   \n",
       "12   Dan_Radcliffe\\97.PNG  Dan_Radcliffe   \n",
       "\n",
       "                                           descriptor  \n",
       "0   -0.01745985820889473 0.10399903357028961 0.059...  \n",
       "1   -0.10777680575847626 0.07684307545423508 0.040...  \n",
       "2   -0.10304909199476242 0.08664718270301819 0.038...  \n",
       "3   -0.06392291933298111 0.09306670725345612 0.059...  \n",
       "4   -0.10605598986148834 0.07336850464344025 -0.03...  \n",
       "..                                                ...  \n",
       "8   -0.05436497554183006 0.09129687398672104 0.037...  \n",
       "9   -0.02284703217446804 0.09830205887556076 0.031...  \n",
       "10  -0.10329978168010712 0.042460761964321136 0.01...  \n",
       "11  -0.08599738776683807 0.05456458032131195 0.021...  \n",
       "12  -0.10788989067077637 0.0674746036529541 0.0452...  \n",
       "\n",
       "[205 rows x 3 columns]"
      ]
     },
     "execution_count": 53,
     "metadata": {},
     "output_type": "execute_result"
    }
   ],
   "source": [
    "total_df"
   ]
  },
  {
   "cell_type": "code",
   "execution_count": 54,
   "metadata": {},
   "outputs": [],
   "source": [
    "total_df.to_csv('total_Dan_Radcliffe.csv')\n",
    "total_df.to_excel('total_Dan_Radcliffe.xlsx')"
   ]
  },
  {
   "cell_type": "code",
   "execution_count": null,
   "metadata": {},
   "outputs": [],
   "source": []
  },
  {
   "cell_type": "code",
   "execution_count": null,
   "metadata": {},
   "outputs": [],
   "source": []
  }
 ],
 "metadata": {
  "kernelspec": {
   "display_name": "Python 3",
   "language": "python",
   "name": "python3"
  },
  "language_info": {
   "codemirror_mode": {
    "name": "ipython",
    "version": 3
   },
   "file_extension": ".py",
   "mimetype": "text/x-python",
   "name": "python",
   "nbconvert_exporter": "python",
   "pygments_lexer": "ipython3",
   "version": "3.7.7"
  }
 },
 "nbformat": 4,
 "nbformat_minor": 4
}
