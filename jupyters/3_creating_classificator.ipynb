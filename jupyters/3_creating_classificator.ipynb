{
 "cells": [
  {
   "cell_type": "code",
   "execution_count": 1,
   "metadata": {},
   "outputs": [],
   "source": [
    "import pandas as pd\n",
    "from sklearn.linear_model import LogisticRegression\n",
    "from sklearn.model_selection import train_test_split, cross_val_score, StratifiedKFold\n",
    "from sklearn.metrics import mean_squared_error\n",
    "from tensorflow.keras.models import Sequential\n",
    "from tensorflow.keras.layers import Dense, Dropout\n",
    "from tensorflow.keras import utils\n",
    "import numpy as np"
   ]
  },
  {
   "cell_type": "markdown",
   "metadata": {},
   "source": [
    "##### Объединяем созданные csv-файлы в один"
   ]
  },
  {
   "cell_type": "code",
   "execution_count": 2,
   "metadata": {},
   "outputs": [],
   "source": [
    "files = ['Dan_Radcliffe.csv', 'Emma_Watson.csv', 'Rupert_Grint.csv', 'Harrison_Ford.csv', 'Will_Smith.csv', 'Halle_Berry.csv']\n",
    "dfs = []\n",
    "for file in files:\n",
    "    df = pd.read_csv(file, index_col = 0)\n",
    "    dfs.append(df)"
   ]
  },
  {
   "cell_type": "code",
   "execution_count": 3,
   "metadata": {},
   "outputs": [
    {
     "data": {
      "text/html": [
       "<div>\n",
       "<style scoped>\n",
       "    .dataframe tbody tr th:only-of-type {\n",
       "        vertical-align: middle;\n",
       "    }\n",
       "\n",
       "    .dataframe tbody tr th {\n",
       "        vertical-align: top;\n",
       "    }\n",
       "\n",
       "    .dataframe thead th {\n",
       "        text-align: right;\n",
       "    }\n",
       "</style>\n",
       "<table border=\"1\" class=\"dataframe\">\n",
       "  <thead>\n",
       "    <tr style=\"text-align: right;\">\n",
       "      <th></th>\n",
       "      <th>img_path</th>\n",
       "      <th>class</th>\n",
       "      <th>descriptor</th>\n",
       "    </tr>\n",
       "  </thead>\n",
       "  <tbody>\n",
       "    <tr>\n",
       "      <th>0</th>\n",
       "      <td>Dan_Radcliffe\\10.PNG</td>\n",
       "      <td>Dan_Radcliffe</td>\n",
       "      <td>-0.01745985820889473 0.10399903357028961 0.059...</td>\n",
       "    </tr>\n",
       "    <tr>\n",
       "      <th>1</th>\n",
       "      <td>Dan_Radcliffe\\100.PNG</td>\n",
       "      <td>Dan_Radcliffe</td>\n",
       "      <td>-0.10777680575847626 0.07684307545423508 0.040...</td>\n",
       "    </tr>\n",
       "    <tr>\n",
       "      <th>2</th>\n",
       "      <td>Dan_Radcliffe\\101.PNG</td>\n",
       "      <td>Dan_Radcliffe</td>\n",
       "      <td>-0.10304909199476242 0.08664718270301819 0.038...</td>\n",
       "    </tr>\n",
       "    <tr>\n",
       "      <th>3</th>\n",
       "      <td>Dan_Radcliffe\\102.PNG</td>\n",
       "      <td>Dan_Radcliffe</td>\n",
       "      <td>-0.06392291933298111 0.09306670725345612 0.059...</td>\n",
       "    </tr>\n",
       "    <tr>\n",
       "      <th>4</th>\n",
       "      <td>Dan_Radcliffe\\104.PNG</td>\n",
       "      <td>Dan_Radcliffe</td>\n",
       "      <td>-0.10605598986148834 0.07336850464344025 -0.03...</td>\n",
       "    </tr>\n",
       "    <tr>\n",
       "      <th>...</th>\n",
       "      <td>...</td>\n",
       "      <td>...</td>\n",
       "      <td>...</td>\n",
       "    </tr>\n",
       "    <tr>\n",
       "      <th>585</th>\n",
       "      <td>Halle_Berry\\995.jpg</td>\n",
       "      <td>Halle_Berry</td>\n",
       "      <td>-0.1652878373861313 0.13762687146663666 0.0526...</td>\n",
       "    </tr>\n",
       "    <tr>\n",
       "      <th>586</th>\n",
       "      <td>Halle_Berry\\996.jpg</td>\n",
       "      <td>Halle_Berry</td>\n",
       "      <td>-0.12461502104997635 0.10574141144752502 0.033...</td>\n",
       "    </tr>\n",
       "    <tr>\n",
       "      <th>587</th>\n",
       "      <td>Halle_Berry\\997.jpg</td>\n",
       "      <td>Halle_Berry</td>\n",
       "      <td>-0.12324288487434387 0.11619621515274048 0.040...</td>\n",
       "    </tr>\n",
       "    <tr>\n",
       "      <th>588</th>\n",
       "      <td>Halle_Berry\\998.jpg</td>\n",
       "      <td>Halle_Berry</td>\n",
       "      <td>-0.1603611260652542 0.08367139101028442 0.0606...</td>\n",
       "    </tr>\n",
       "    <tr>\n",
       "      <th>589</th>\n",
       "      <td>Halle_Berry\\999.jpg</td>\n",
       "      <td>Halle_Berry</td>\n",
       "      <td>-0.1449565440416336 0.12895521521568298 0.0235...</td>\n",
       "    </tr>\n",
       "  </tbody>\n",
       "</table>\n",
       "<p>3306 rows × 3 columns</p>\n",
       "</div>"
      ],
      "text/plain": [
       "                  img_path          class  \\\n",
       "0     Dan_Radcliffe\\10.PNG  Dan_Radcliffe   \n",
       "1    Dan_Radcliffe\\100.PNG  Dan_Radcliffe   \n",
       "2    Dan_Radcliffe\\101.PNG  Dan_Radcliffe   \n",
       "3    Dan_Radcliffe\\102.PNG  Dan_Radcliffe   \n",
       "4    Dan_Radcliffe\\104.PNG  Dan_Radcliffe   \n",
       "..                     ...            ...   \n",
       "585    Halle_Berry\\995.jpg    Halle_Berry   \n",
       "586    Halle_Berry\\996.jpg    Halle_Berry   \n",
       "587    Halle_Berry\\997.jpg    Halle_Berry   \n",
       "588    Halle_Berry\\998.jpg    Halle_Berry   \n",
       "589    Halle_Berry\\999.jpg    Halle_Berry   \n",
       "\n",
       "                                            descriptor  \n",
       "0    -0.01745985820889473 0.10399903357028961 0.059...  \n",
       "1    -0.10777680575847626 0.07684307545423508 0.040...  \n",
       "2    -0.10304909199476242 0.08664718270301819 0.038...  \n",
       "3    -0.06392291933298111 0.09306670725345612 0.059...  \n",
       "4    -0.10605598986148834 0.07336850464344025 -0.03...  \n",
       "..                                                 ...  \n",
       "585  -0.1652878373861313 0.13762687146663666 0.0526...  \n",
       "586  -0.12461502104997635 0.10574141144752502 0.033...  \n",
       "587  -0.12324288487434387 0.11619621515274048 0.040...  \n",
       "588  -0.1603611260652542 0.08367139101028442 0.0606...  \n",
       "589  -0.1449565440416336 0.12895521521568298 0.0235...  \n",
       "\n",
       "[3306 rows x 3 columns]"
      ]
     },
     "execution_count": 3,
     "metadata": {},
     "output_type": "execute_result"
    }
   ],
   "source": [
    "df = pd.concat(dfs)\n",
    "df"
   ]
  },
  {
   "cell_type": "code",
   "execution_count": 4,
   "metadata": {},
   "outputs": [],
   "source": [
    "label_to_names = {\n",
    "    0 : 'Harrison_Ford',\n",
    "    1 : 'Dan_Radcliffe',\n",
    "    2 : 'Emma_Watson',\n",
    "    3 : 'Rupert_Grint',\n",
    "    4 : 'Will_Smith',\n",
    "    5 : 'Halle_Berry',\n",
    "}\n",
    "names_to_label = {\n",
    "   'Harrison_Ford' : 0 ,\n",
    "    'Dan_Radcliffe': 1,\n",
    "    'Emma_Watson': 2,\n",
    "    'Rupert_Grint': 3,\n",
    "    'Will_Smith' :4,\n",
    "    'Halle_Berry' : 5,\n",
    "}"
   ]
  },
  {
   "cell_type": "code",
   "execution_count": 5,
   "metadata": {},
   "outputs": [
    {
     "data": {
      "text/html": [
       "<div>\n",
       "<style scoped>\n",
       "    .dataframe tbody tr th:only-of-type {\n",
       "        vertical-align: middle;\n",
       "    }\n",
       "\n",
       "    .dataframe tbody tr th {\n",
       "        vertical-align: top;\n",
       "    }\n",
       "\n",
       "    .dataframe thead th {\n",
       "        text-align: right;\n",
       "    }\n",
       "</style>\n",
       "<table border=\"1\" class=\"dataframe\">\n",
       "  <thead>\n",
       "    <tr style=\"text-align: right;\">\n",
       "      <th></th>\n",
       "      <th>img_path</th>\n",
       "      <th>class</th>\n",
       "      <th>descriptor</th>\n",
       "      <th>labels</th>\n",
       "    </tr>\n",
       "  </thead>\n",
       "  <tbody>\n",
       "    <tr>\n",
       "      <th>0</th>\n",
       "      <td>Dan_Radcliffe\\10.PNG</td>\n",
       "      <td>Dan_Radcliffe</td>\n",
       "      <td>-0.01745985820889473 0.10399903357028961 0.059...</td>\n",
       "      <td>1</td>\n",
       "    </tr>\n",
       "    <tr>\n",
       "      <th>1</th>\n",
       "      <td>Dan_Radcliffe\\100.PNG</td>\n",
       "      <td>Dan_Radcliffe</td>\n",
       "      <td>-0.10777680575847626 0.07684307545423508 0.040...</td>\n",
       "      <td>1</td>\n",
       "    </tr>\n",
       "    <tr>\n",
       "      <th>2</th>\n",
       "      <td>Dan_Radcliffe\\101.PNG</td>\n",
       "      <td>Dan_Radcliffe</td>\n",
       "      <td>-0.10304909199476242 0.08664718270301819 0.038...</td>\n",
       "      <td>1</td>\n",
       "    </tr>\n",
       "    <tr>\n",
       "      <th>3</th>\n",
       "      <td>Dan_Radcliffe\\102.PNG</td>\n",
       "      <td>Dan_Radcliffe</td>\n",
       "      <td>-0.06392291933298111 0.09306670725345612 0.059...</td>\n",
       "      <td>1</td>\n",
       "    </tr>\n",
       "    <tr>\n",
       "      <th>4</th>\n",
       "      <td>Dan_Radcliffe\\104.PNG</td>\n",
       "      <td>Dan_Radcliffe</td>\n",
       "      <td>-0.10605598986148834 0.07336850464344025 -0.03...</td>\n",
       "      <td>1</td>\n",
       "    </tr>\n",
       "    <tr>\n",
       "      <th>...</th>\n",
       "      <td>...</td>\n",
       "      <td>...</td>\n",
       "      <td>...</td>\n",
       "      <td>...</td>\n",
       "    </tr>\n",
       "    <tr>\n",
       "      <th>585</th>\n",
       "      <td>Halle_Berry\\995.jpg</td>\n",
       "      <td>Halle_Berry</td>\n",
       "      <td>-0.1652878373861313 0.13762687146663666 0.0526...</td>\n",
       "      <td>5</td>\n",
       "    </tr>\n",
       "    <tr>\n",
       "      <th>586</th>\n",
       "      <td>Halle_Berry\\996.jpg</td>\n",
       "      <td>Halle_Berry</td>\n",
       "      <td>-0.12461502104997635 0.10574141144752502 0.033...</td>\n",
       "      <td>5</td>\n",
       "    </tr>\n",
       "    <tr>\n",
       "      <th>587</th>\n",
       "      <td>Halle_Berry\\997.jpg</td>\n",
       "      <td>Halle_Berry</td>\n",
       "      <td>-0.12324288487434387 0.11619621515274048 0.040...</td>\n",
       "      <td>5</td>\n",
       "    </tr>\n",
       "    <tr>\n",
       "      <th>588</th>\n",
       "      <td>Halle_Berry\\998.jpg</td>\n",
       "      <td>Halle_Berry</td>\n",
       "      <td>-0.1603611260652542 0.08367139101028442 0.0606...</td>\n",
       "      <td>5</td>\n",
       "    </tr>\n",
       "    <tr>\n",
       "      <th>589</th>\n",
       "      <td>Halle_Berry\\999.jpg</td>\n",
       "      <td>Halle_Berry</td>\n",
       "      <td>-0.1449565440416336 0.12895521521568298 0.0235...</td>\n",
       "      <td>5</td>\n",
       "    </tr>\n",
       "  </tbody>\n",
       "</table>\n",
       "<p>3306 rows × 4 columns</p>\n",
       "</div>"
      ],
      "text/plain": [
       "                  img_path          class  \\\n",
       "0     Dan_Radcliffe\\10.PNG  Dan_Radcliffe   \n",
       "1    Dan_Radcliffe\\100.PNG  Dan_Radcliffe   \n",
       "2    Dan_Radcliffe\\101.PNG  Dan_Radcliffe   \n",
       "3    Dan_Radcliffe\\102.PNG  Dan_Radcliffe   \n",
       "4    Dan_Radcliffe\\104.PNG  Dan_Radcliffe   \n",
       "..                     ...            ...   \n",
       "585    Halle_Berry\\995.jpg    Halle_Berry   \n",
       "586    Halle_Berry\\996.jpg    Halle_Berry   \n",
       "587    Halle_Berry\\997.jpg    Halle_Berry   \n",
       "588    Halle_Berry\\998.jpg    Halle_Berry   \n",
       "589    Halle_Berry\\999.jpg    Halle_Berry   \n",
       "\n",
       "                                            descriptor  labels  \n",
       "0    -0.01745985820889473 0.10399903357028961 0.059...       1  \n",
       "1    -0.10777680575847626 0.07684307545423508 0.040...       1  \n",
       "2    -0.10304909199476242 0.08664718270301819 0.038...       1  \n",
       "3    -0.06392291933298111 0.09306670725345612 0.059...       1  \n",
       "4    -0.10605598986148834 0.07336850464344025 -0.03...       1  \n",
       "..                                                 ...     ...  \n",
       "585  -0.1652878373861313 0.13762687146663666 0.0526...       5  \n",
       "586  -0.12461502104997635 0.10574141144752502 0.033...       5  \n",
       "587  -0.12324288487434387 0.11619621515274048 0.040...       5  \n",
       "588  -0.1603611260652542 0.08367139101028442 0.0606...       5  \n",
       "589  -0.1449565440416336 0.12895521521568298 0.0235...       5  \n",
       "\n",
       "[3306 rows x 4 columns]"
      ]
     },
     "execution_count": 5,
     "metadata": {},
     "output_type": "execute_result"
    }
   ],
   "source": [
    "df['labels'] = df['class'].map(names_to_label)\n",
    "df"
   ]
  },
  {
   "cell_type": "code",
   "execution_count": 6,
   "metadata": {},
   "outputs": [],
   "source": [
    "X =[]"
   ]
  },
  {
   "cell_type": "markdown",
   "metadata": {},
   "source": [
    "##### Записываем дескрипторы в список X"
   ]
  },
  {
   "cell_type": "code",
   "execution_count": 7,
   "metadata": {},
   "outputs": [],
   "source": [
    "for i, row in df.iterrows():\n",
    "    desc = row['descriptor']\n",
    "    values = [float(x) for x in desc.split()]\n",
    "    values = np.array(values)\n",
    "    X.append(values)\n",
    "X = np.array(X)    "
   ]
  },
  {
   "cell_type": "markdown",
   "metadata": {},
   "source": [
    "##### Записываем классы в список Y (целевая переменнная)"
   ]
  },
  {
   "cell_type": "code",
   "execution_count": 8,
   "metadata": {},
   "outputs": [],
   "source": [
    "Y = df['labels'].values\n",
    "#Y = utils.to_categorical(Y, 4)"
   ]
  },
  {
   "cell_type": "code",
   "execution_count": 9,
   "metadata": {},
   "outputs": [
    {
     "data": {
      "text/plain": [
       "(numpy.ndarray, numpy.ndarray)"
      ]
     },
     "execution_count": 9,
     "metadata": {},
     "output_type": "execute_result"
    }
   ],
   "source": [
    "type(X),type(Y)"
   ]
  },
  {
   "cell_type": "code",
   "execution_count": 10,
   "metadata": {},
   "outputs": [
    {
     "data": {
      "text/plain": [
       "1"
      ]
     },
     "execution_count": 10,
     "metadata": {},
     "output_type": "execute_result"
    }
   ],
   "source": [
    "Y[300]"
   ]
  },
  {
   "cell_type": "markdown",
   "metadata": {},
   "source": [
    "##### Делим выборку на train, test"
   ]
  },
  {
   "cell_type": "code",
   "execution_count": 11,
   "metadata": {},
   "outputs": [],
   "source": [
    "x_train, x_test, y_train, y_test = train_test_split(X, Y, test_size = 0.2, random_state = 73)"
   ]
  },
  {
   "cell_type": "markdown",
   "metadata": {},
   "source": [
    "##### Применяем логистическую регрессию для классификации"
   ]
  },
  {
   "cell_type": "code",
   "execution_count": 12,
   "metadata": {},
   "outputs": [],
   "source": [
    "model = LogisticRegression(random_state=73)"
   ]
  },
  {
   "cell_type": "code",
   "execution_count": 13,
   "metadata": {},
   "outputs": [
    {
     "data": {
      "text/plain": [
       "LogisticRegression(C=1.0, class_weight=None, dual=False, fit_intercept=True,\n",
       "                   intercept_scaling=1, l1_ratio=None, max_iter=100,\n",
       "                   multi_class='auto', n_jobs=None, penalty='l2',\n",
       "                   random_state=73, solver='lbfgs', tol=0.0001, verbose=0,\n",
       "                   warm_start=False)"
      ]
     },
     "execution_count": 13,
     "metadata": {},
     "output_type": "execute_result"
    }
   ],
   "source": [
    "model.fit(x_train, y_train)"
   ]
  },
  {
   "cell_type": "code",
   "execution_count": 14,
   "metadata": {},
   "outputs": [
    {
     "data": {
      "text/plain": [
       "0.9924471299093656"
      ]
     },
     "execution_count": 14,
     "metadata": {},
     "output_type": "execute_result"
    }
   ],
   "source": [
    "model.score(x_test, y_test)"
   ]
  },
  {
   "cell_type": "code",
   "execution_count": 2,
   "metadata": {},
   "outputs": [],
   "source": [
    "kfold = StratifiedKFold(n_splits=5, random_state=73)\n",
    "model = LogisticRegression(random_state=73)\n",
    "result = cross_val_score(model, X, Y, cv=kfold)\n",
    "result.mean()*100.0"
   ]
  },
  {
   "cell_type": "code",
   "execution_count": 16,
   "metadata": {},
   "outputs": [],
   "source": [
    "y_test = utils.to_categorical(y_test, 6)\n",
    "y_train = utils.to_categorical(y_train, 6)"
   ]
  },
  {
   "cell_type": "markdown",
   "metadata": {},
   "source": [
    "##### Создаем полносвязную сеть для классификации"
   ]
  },
  {
   "cell_type": "code",
   "execution_count": 3,
   "metadata": {},
   "outputs": [],
   "source": [
    "# Создаем последовательную модель\n",
    "nn = Sequential()\n",
    "# Входной полносвязный слой\n",
    "nn.add(Dense(64, input_dim=128, activation=\"relu\"))\n",
    "# Выходной полносвязный слой\n",
    "nn.add(Dense(6, activation=\"softmax\"))"
   ]
  },
  {
   "cell_type": "code",
   "execution_count": 18,
   "metadata": {},
   "outputs": [
    {
     "name": "stdout",
     "output_type": "stream",
     "text": [
      "Model: \"sequential\"\n",
      "_________________________________________________________________\n",
      "Layer (type)                 Output Shape              Param #   \n",
      "=================================================================\n",
      "dense (Dense)                (None, 64)                8256      \n",
      "_________________________________________________________________\n",
      "dense_1 (Dense)              (None, 6)                 390       \n",
      "=================================================================\n",
      "Total params: 8,646\n",
      "Trainable params: 8,646\n",
      "Non-trainable params: 0\n",
      "_________________________________________________________________\n",
      "None\n"
     ]
    }
   ],
   "source": [
    "nn.compile(loss=\"categorical_crossentropy\", optimizer=\"SGD\", metrics=[\"accuracy\"])\n",
    "\n",
    "print(nn.summary())"
   ]
  },
  {
   "cell_type": "code",
   "execution_count": 4,
   "metadata": {},
   "outputs": [],
   "source": [
    "history = nn.fit(x_train, y_train, \n",
    "                    batch_size=32, \n",
    "                    epochs=100,\n",
    "                 validation_data = (x_test, y_test),\n",
    "                    verbose=1)"
   ]
  },
  {
   "cell_type": "code",
   "execution_count": 23,
   "metadata": {},
   "outputs": [],
   "source": [
    "nn.save('my_nnet.h5')"
   ]
  }
 ],
 "metadata": {
  "kernelspec": {
   "display_name": "Python 3.9.10 64-bit",
   "language": "python",
   "name": "python3"
  },
  "language_info": {
   "codemirror_mode": {
    "name": "ipython",
    "version": 3
   },
   "file_extension": ".py",
   "mimetype": "text/x-python",
   "name": "python",
   "nbconvert_exporter": "python",
   "pygments_lexer": "ipython3",
   "version": "3.9.10"
  },
  "vscode": {
   "interpreter": {
    "hash": "5145c6fb58063bd26d80fc68f0861f20f480b117350546324a5c9604fa6673c0"
   }
  }
 },
 "nbformat": 4,
 "nbformat_minor": 4
}
